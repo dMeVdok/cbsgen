{
 "cells": [
  {
   "cell_type": "code",
   "execution_count": 1,
   "metadata": {},
   "outputs": [],
   "source": [
    "f = open('klimsamgin_unprepared','r').read()"
   ]
  },
  {
   "cell_type": "code",
   "execution_count": 3,
   "metadata": {},
   "outputs": [],
   "source": [
    "import re"
   ]
  },
  {
   "cell_type": "code",
   "execution_count": 4,
   "metadata": {},
   "outputs": [],
   "source": [
    "f = re.sub(r'\\s+',r' ',f)"
   ]
  },
  {
   "cell_type": "code",
   "execution_count": 5,
   "metadata": {},
   "outputs": [
    {
     "data": {
      "text/plain": [
       "' Иван Акимович Самгин любил оригинальное; поэтому, когда жена родила второго сына, Самгин, сидя у постели роженицы, стал убеждать ее: - Знаешь что. Вера, дадим ему какое-нибудь редкое имя? Надоели эти бесчисленные Иваны, Василии... А? Утомленная муками родов, Вера Петровна не ответила. Муж на минуту задумался, устремив голубиные глаза свои в окно, в небеса, где облака, изорванные ветром, напоминали и ледоход на реке и мохнатые кочки болота. Затем Самгин начал озабоченно перечислять, пронзая воздух коротеньким и пухлым пальцем: - Христофор? Кирик? Вукол? Никодим? Каждое имя он уничтожал вычеркивающим жестом, а перебрав десятка полтора необычных имен, воскликнул удовлетворенно: - Самсон! Самсон Самгин, - вот! Это не плохо! Имя библейского героя, а фамилия, - фамилия у меня своеобразная! - Не тряси кровать, - тихо попросила жена. Он извинился, поцеловал ее руку, обессиленную и странно тяжелую, улыбаясь, послушал злой свист осеннего ветра, жалобный писк ребенка. - Да, Самсон! Народ нуждает'"
      ]
     },
     "execution_count": 5,
     "metadata": {},
     "output_type": "execute_result"
    }
   ],
   "source": [
    "f = f.replace('. ','.\\n')\n",
    "f = f.replace('? ','?\\n')\n"
   ]
  }
 ],
 "metadata": {
  "kernelspec": {
   "display_name": "Python 3",
   "language": "python",
   "name": "python3"
  },
  "language_info": {
   "codemirror_mode": {
    "name": "ipython",
    "version": 3
   },
   "file_extension": ".py",
   "mimetype": "text/x-python",
   "name": "python",
   "nbconvert_exporter": "python",
   "pygments_lexer": "ipython3",
   "version": "3.7.4"
  }
 },
 "nbformat": 4,
 "nbformat_minor": 2
}
